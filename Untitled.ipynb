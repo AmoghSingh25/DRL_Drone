{
 "cells": [
  {
   "cell_type": "code",
   "execution_count": 1,
   "id": "c0664621",
   "metadata": {},
   "outputs": [],
   "source": [
    "import numpy as np\n",
    "import cv2 as cv"
   ]
  },
  {
   "cell_type": "code",
   "execution_count": 35,
   "id": "5f03d126",
   "metadata": {},
   "outputs": [],
   "source": [
    "image = np.random.randint(1,10,size=(144,156,1))"
   ]
  },
  {
   "cell_type": "code",
   "execution_count": 13,
   "id": "e6d83f55",
   "metadata": {},
   "outputs": [],
   "source": [
    "n = 3"
   ]
  },
  {
   "cell_type": "code",
   "execution_count": 30,
   "id": "b411521b",
   "metadata": {},
   "outputs": [],
   "source": [
    "x_step  =image.shape[0]//n\n",
    "y_step = image.shape[1]//n"
   ]
  },
  {
   "cell_type": "code",
   "execution_count": 31,
   "id": "6710f0cb",
   "metadata": {},
   "outputs": [
    {
     "name": "stdout",
     "output_type": "stream",
     "text": [
      "48\n"
     ]
    }
   ],
   "source": [
    "print(x_step)"
   ]
  },
  {
   "cell_type": "code",
   "execution_count": 32,
   "id": "4e499401",
   "metadata": {},
   "outputs": [
    {
     "name": "stdout",
     "output_type": "stream",
     "text": [
      "52\n"
     ]
    }
   ],
   "source": [
    "print(y_step)"
   ]
  },
  {
   "cell_type": "code",
   "execution_count": 15,
   "id": "878f185e",
   "metadata": {},
   "outputs": [],
   "source": [
    "new_image = np.ones((n,n,1))"
   ]
  },
  {
   "cell_type": "code",
   "execution_count": 20,
   "id": "8785271a",
   "metadata": {},
   "outputs": [
    {
     "data": {
      "text/plain": [
       "-1"
      ]
     },
     "execution_count": 20,
     "metadata": {},
     "output_type": "execute_result"
    }
   ],
   "source": [
    "l = [1,2,3]\n",
    "min(-1,min(l))"
   ]
  },
  {
   "cell_type": "code",
   "execution_count": 39,
   "id": "afc795f4",
   "metadata": {},
   "outputs": [
    {
     "name": "stdout",
     "output_type": "stream",
     "text": [
      "0 48 0 52\n",
      "0 48 52 104\n",
      "0 48 104 156\n",
      "48 96 0 52\n",
      "48 96 52 104\n",
      "48 96 104 156\n",
      "96 144 0 52\n",
      "96 144 52 104\n",
      "96 144 104 156\n"
     ]
    }
   ],
   "source": [
    "for i in range(n):\n",
    "    x_min = i*x_step\n",
    "    x_max = (i+1)*x_step\n",
    "    for j in range(n):\n",
    "        y_min = j*y_step\n",
    "        y_max = (j+1)*y_step\n",
    "        print(x_min, x_max, y_min, y_max)\n",
    "        curr_val = image[x_min][y_min]\n",
    "        for k in range(x_min,x_max):\n",
    "            curr_val = min(curr_val, min(image[k]))\n",
    "        new_image[i][j] = curr_val"
   ]
  },
  {
   "cell_type": "code",
   "execution_count": 40,
   "id": "6b41a082",
   "metadata": {},
   "outputs": [
    {
     "data": {
      "text/plain": [
       "array([[[0.],\n",
       "        [0.],\n",
       "        [0.]],\n",
       "\n",
       "       [[1.],\n",
       "        [1.],\n",
       "        [1.]],\n",
       "\n",
       "       [[1.],\n",
       "        [1.],\n",
       "        [1.]]])"
      ]
     },
     "execution_count": 40,
     "metadata": {},
     "output_type": "execute_result"
    }
   ],
   "source": [
    "new_image"
   ]
  }
 ],
 "metadata": {
  "kernelspec": {
   "display_name": "Python 3 (ipykernel)",
   "language": "python",
   "name": "python3"
  },
  "language_info": {
   "codemirror_mode": {
    "name": "ipython",
    "version": 3
   },
   "file_extension": ".py",
   "mimetype": "text/x-python",
   "name": "python",
   "nbconvert_exporter": "python",
   "pygments_lexer": "ipython3",
   "version": "3.10.4"
  }
 },
 "nbformat": 4,
 "nbformat_minor": 5
}
